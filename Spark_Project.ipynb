{
 "cells": [
  {
   "cell_type": "markdown",
   "metadata": {},
   "source": [
    "# Log Analysis with Spark"
   ]
  },
  {
   "cell_type": "markdown",
   "metadata": {},
   "source": [
    "### Outcomes:\n",
    "\n",
    "* Install and apply Spark and PySpark tools to solve a problem\n",
    "* Use Spark's MLlib for analysis of proxy logs and anomaly detection.\n",
    "* Prepare, analyze and visualize real-world big data.\n"
   ]
  },
  {
   "cell_type": "markdown",
   "metadata": {},
   "source": [
    "## Introduction\n",
    "\n",
    "Log files are some of the most common big data that is best analyzed using a tool such as Spark. Many machines and devices produce a huge number of log that record events in time. In many situations, a programmer needs to parse these logs and load them into a dataframe in order to do some exploratory analytics.\n",
    "\n",
    "In this Project, you will load a proxy log in order to have a look at the web access activity for a medium sized organization with thousands of users. The log will be provided and is named 16-6.txt which you will have to open and load using Spark, then perform various analytic operations and clustering using MLlib and k-Means, among others.\n"
   ]
  },
  {
   "cell_type": "code",
   "execution_count": 156,
   "metadata": {},
   "outputs": [],
   "source": [
    "import re\n",
    "import csv\n",
    "import datetime\n",
    "import warnings\n",
    "warnings.filterwarnings(\"ignore\")"
   ]
  },
  {
   "cell_type": "code",
   "execution_count": 157,
   "metadata": {},
   "outputs": [],
   "source": [
    "import pandas as pd\n",
    "import matplotlib.pyplot as plt"
   ]
  },
  {
   "cell_type": "markdown",
   "metadata": {},
   "source": [
    "The web proxy log was created by a SGOS BlueCoat Firewall. The log file starts with comments holding information as follows:"
   ]
  },
  {
   "cell_type": "code",
   "execution_count": 158,
   "metadata": {},
   "outputs": [],
   "source": [
    "#Software: SGOS 5.2.3.9\n",
    "#Version: 1.0\n",
    "#Start-Date: 2008-06-16 13:00:00\n",
    "#Date: 2008-06-12 16:00:31\n",
    "#Fields: date time time-taken c-ip sc-status s-action sc-bytes cs-bytes cs-method cs-uri-scheme cs-host cs-uri-port cs-uri-path cs-uri-query cs-username cs-auth-group s-hierarchy s-supplier-name rs(Content-Type) cs(Referer) cs(User-Agent) sc-filter-result cs-categories x-virus-id s-ip\n",
    "#Remark: 0707083160 \"UOS-SG810\" \"192.168.2.21\" \"main\"\n"
   ]
  },
  {
   "cell_type": "markdown",
   "metadata": {},
   "source": [
    "The following is an example log entry:\n",
    "\n",
    "    2008-06-16 13:00:00 351 192.168.39.53 200 TCP_REFRESH_MISS 32418 725 GET http www.dinamalar.com 80 /dfonts/SHREE0803.eot - - - DIRECT www.dinamalar.com application/octet-stream http://www.dinamalar.com/ \"Mozilla/4.0 (compatible; MSIE 6.0; Windows NT 5.1; SV1)\" OBSERVED \"News/Media\" - 192.168.2.21\n",
    "    "
   ]
  },
  {
   "cell_type": "markdown",
   "metadata": {},
   "source": [
    "**Task 1.** Read all entries in the weblog into a dataframe \n",
    "\n",
    "The first task is to use spark to read all of the data from the .txt log file into a Spark dataframe. Below you will find a sample regular expression that can scan a line and break it down into its components. You can use Spark to map this over the lines of the file and then transfer it into a dataframe.\n",
    "\n",
    "Or you can use the methods that load data from a file, and just determine what are the delimiters. You don't need to use this function or code. This is just an illustration of the structure of the data."
   ]
  },
  {
   "cell_type": "code",
   "execution_count": 159,
   "metadata": {},
   "outputs": [],
   "source": [
    "SGS_ACCESS_LOG_PATTERN = '^(\\S+) (\\S+) (\\S+) (\\S+) (\\S+) (\\w+) (\\w+) (\\w+) (\\w+) (\\w+) (\\w+) (\\w+) (\\w+) (\\w+) (\\w+) (\\w+) (\\w+) (\\w+) (\\w+) \"(\\w+)\" (\\w+) \"(\\w+)\" (\\w+) (\\w+)'\n",
    "\n",
    "def parse_sgs_log_line(logline):\n",
    "    match = re.search(SGS_ACCESS_LOG_PATTERN, logline)\n",
    "    if match is None:\n",
    "        print(\"Invalid logline: %s\" % logline)\n",
    "    else:\n",
    "        print(match.group(1),match.group(2),match.group(3))\n",
    "\n",
    "headings = ['date', 'time', 'time_taken', 'c_ip', 'sc_status', 's_action', 'sc_bytes', 'cs_bytes', 'cs_method', 'cs_uri_scheme', 'cs_host', 'cs_uri_port', 'cs_uri_path', 'cs_uri_query', 'cs_username', 'cs_auth_group', 's_hierarchy', 's_supplier_name', 'rs_Content_Type', 'cs_Referer', 'cs_User_Agent', 'sc_filter_result', 'cs-categories', 'x_virus_id', 's_ip']"
   ]
  },
  {
   "cell_type": "markdown",
   "metadata": {},
   "source": [
    "The following is a sample Python code to use the function and regular expression above to scan the first 20 lines in the file. However, this does not use the power of Spark. If you want you can use the Map operation to perform the same thing on the file and create a Dataframe with the scanned information."
   ]
  },
  {
   "cell_type": "code",
   "execution_count": 160,
   "metadata": {},
   "outputs": [
    {
     "name": "stdout",
     "output_type": "stream",
     "text": [
      "0 : 2008-06-16\n",
      "1 : 13:00:00\n",
      "2 : 351\n",
      "3 : 192.168.39.53\n",
      "4 : 200\n",
      "5 : TCP_REFRESH_MISS\n",
      "6 : 32418\n",
      "7 : 725\n",
      "8 : GET\n",
      "9 : http\n",
      "10 : www.dinamalar.com\n",
      "11 : 80\n",
      "12 : /dfonts/SHREE0803.eot\n",
      "13 : -\n",
      "14 : -\n",
      "15 : -\n",
      "16 : DIRECT\n",
      "17 : www.dinamalar.com\n",
      "18 : application/octet-stream\n",
      "19 : http://www.dinamalar.com/\n",
      "20 : Mozilla/4.0 (compatible; MSIE 6.0; Windows NT 5.1; SV1)\n",
      "21 : OBSERVED\n",
      "22 : News/Media\n",
      "23 : -\n",
      "24 : 192.168.2.21\n",
      "0 : 2008-06-16\n",
      "1 : 13:00:00\n",
      "2 : 440\n",
      "3 : 192.168.105.99\n",
      "4 : 200\n",
      "5 : TCP_NC_MISS\n",
      "6 : 1000\n",
      "7 : 531\n",
      "8 : GET\n",
      "9 : http\n",
      "10 : acvs.mediaonenetwork.net\n",
      "11 : 80\n",
      "12 : /client/acv211.js\n",
      "13 : -\n",
      "14 : -\n",
      "15 : -\n",
      "16 : DIRECT\n",
      "17 : acvs.mediaonenetwork.net\n",
      "18 : application/x-javascript\n",
      "19 : http://msn.co.nz/\n",
      "20 : Mozilla/4.0 (compatible; MSIE 7.0; Windows NT 6.0; SLCC1; .NET CLR 2.0.50727; .NET CLR 3.0.04506; InfoPath.2)\n",
      "21 : OBSERVED\n",
      "22 : Web Advertisements\n",
      "23 : -\n",
      "24 : 192.168.2.21\n",
      "0 : 2008-06-16\n",
      "1 : 13:00:00\n",
      "2 : 803\n",
      "3 : 192.168.114.169\n",
      "4 : 302\n",
      "5 : TCP_NC_MISS\n",
      "6 : 322\n",
      "7 : 248\n",
      "8 : GET\n",
      "9 : http\n",
      "10 : dl.free.fr\n",
      "11 : 80\n",
      "12 : /j9mc9rg3I/misr.wmv\n",
      "13 : -\n",
      "14 : -\n",
      "15 : -\n",
      "16 : DIRECT\n",
      "17 : dl.free.fr\n",
      "18 : text/html;%20charset=iso-8859-1\n",
      "19 : http://dl.free.fr/j9mc9rg3I/\n",
      "20 : Mozilla/4.0 (compatible; MSIE 6.0; Windows NT 5.1)\n",
      "21 : OBSERVED\n",
      "22 : Online Storage\n",
      "23 : -\n",
      "24 : 192.168.2.21\n",
      "0 : 2008-06-16\n",
      "1 : 13:00:00\n",
      "2 : 402\n",
      "3 : 192.168.54.105\n",
      "4 : 200\n",
      "5 : TCP_MISS\n",
      "6 : 12460\n",
      "7 : 548\n",
      "8 : GET\n",
      "9 : http\n",
      "10 : www.diino.com\n",
      "11 : 80\n",
      "12 : /offer01_international_adsmarket.html\n",
      "13 : ?ce_cid=000c2u0000001vXQld4yMoR35Hdtvd3f\n",
      "14 : -\n",
      "15 : -\n",
      "16 : DIRECT\n",
      "17 : www.diino.com\n",
      "18 : text/html;%20charset=UTF-8\n",
      "19 : -\n",
      "20 : Mozilla/4.0 (compatible; MSIE 7.0; Windows NT 5.1; IEMB3; .NET CLR 2.0.50727; .NET CLR 3.0.04506.30; .NET CLR 3.0.04506.648; IEMB3)\n",
      "21 : OBSERVED\n",
      "22 : Online Storage\n",
      "23 : -\n",
      "24 : 192.168.2.21\n",
      "0 : 2008-06-16\n",
      "1 : 13:00:00\n",
      "2 : 1\n",
      "3 : 192.168.105.99\n",
      "4 : 304\n",
      "5 : TCP_HIT\n",
      "6 : 375\n",
      "7 : 400\n",
      "8 : GET\n",
      "9 : http\n",
      "10 : msn.co.nz\n",
      "11 : 80\n",
      "12 : /img/horoscope/0.gif\n",
      "13 : -\n",
      "14 : -\n",
      "15 : -\n",
      "16 : DIRECT\n",
      "17 : 202.58.48.29\n",
      "18 : image/gif\n",
      "19 : http://msn.co.nz/\n",
      "20 : Mozilla/4.0 (compatible; MSIE 7.0; Windows NT 6.0; SLCC1; .NET CLR 2.0.50727; .NET CLR 3.0.04506; InfoPath.2)\n",
      "21 : OBSERVED\n",
      "22 : Search Engines/Portals\n",
      "23 : -\n",
      "24 : 192.168.2.21\n"
     ]
    }
   ],
   "source": [
    "logfilename = '16-6.txt'\n",
    "\n",
    "i=0\n",
    "with open(logfilename, errors='ignore') as f:\n",
    "    logreader = csv.reader(f, delimiter=' ', quotechar='\\\"') #delimiters and quotes in the proxy log file\n",
    "    for item in logreader:\n",
    "        if (item[0][0]!='#'):\n",
    "            for j in range(25):\n",
    "                print(j,':',item[j])\n",
    "        i+=1\n",
    "        if (i>10):\n",
    "            break\n"
   ]
  },
  {
   "cell_type": "code",
   "execution_count": 161,
   "metadata": {},
   "outputs": [],
   "source": [
    "SGS_ACCESS_LOG_PATTERN = '^(\\S+) (\\S+) (\\S+) (\\S+) (\\w+) (\\w+) (\\w+) (\\w+) (\\w+) (\\w+) (\\S+) (\\w+) (\\S+) (\\S+) (\\S+) (\\S+) (\\w+) (\\S+) (\\S+) (\\S+) \"(.*?)\" (\\S+) \"(.*?)\" (\\S+) (\\S+)'\n",
    "\n",
    "def parse_sgs_log_line(logline):\n",
    "    if logline is None:\n",
    "        print('empty logline')\n",
    "        return null_record\n",
    "    else:\n",
    "        match = re.search(SGS_ACCESS_LOG_PATTERN, str(logline))\n",
    "        if match is None:\n",
    "            print(\"Invalid logline: %s\" % logline)\n",
    "            return null_record\n",
    "        else:\n",
    "            #return (match.group(1),match.group(2),match.group(3))\n",
    "            return re.findall(SGS_ACCESS_LOG_PATTERN, str(logline))[0]\n",
    "\n",
    "null_record = (None, None, None, None, None, None, None, None, None, None, None, None, None, None, None, None, None, None, None, None, None, None, None, None, None)\n",
    "headings = ['date', 'time', 'time_taken', 'c_ip', 'sc_status', 's_action', 'sc_bytes', 'cs_bytes', 'cs_method', 'cs_uri_scheme', 'cs_host', 'cs_uri_port', 'cs_uri_path', 'cs_uri_query', 'cs_username', 'cs_auth_group', 's_hierarchy', 's_supplier_name', 'rs_Content_Type', 'cs_Referer', 'cs_User_Agent', 'sc_filter_result', 'cs-categories', 'x_virus_id', 's_ip']"
   ]
  },
  {
   "cell_type": "code",
   "execution_count": 162,
   "metadata": {},
   "outputs": [
    {
     "data": {
      "text/plain": [
       "['date',\n",
       " 'time',\n",
       " 'time_taken',\n",
       " 'c_ip',\n",
       " 'sc_status',\n",
       " 's_action',\n",
       " 'sc_bytes',\n",
       " 'cs_bytes',\n",
       " 'cs_method',\n",
       " 'cs_uri_scheme',\n",
       " 'cs_host',\n",
       " 'cs_uri_port',\n",
       " 'cs_uri_path',\n",
       " 'cs_uri_query',\n",
       " 'cs_username',\n",
       " 'cs_auth_group',\n",
       " 's_hierarchy',\n",
       " 's_supplier_name',\n",
       " 'rs_Content_Type',\n",
       " 'cs_Referer',\n",
       " 'cs_User_Agent',\n",
       " 'sc_filter_result',\n",
       " 'cs-categories',\n",
       " 'x_virus_id',\n",
       " 's_ip']"
      ]
     },
     "execution_count": 162,
     "metadata": {},
     "output_type": "execute_result"
    }
   ],
   "source": [
    "headings"
   ]
  },
  {
   "cell_type": "code",
   "execution_count": 163,
   "metadata": {},
   "outputs": [
    {
     "name": "stderr",
     "output_type": "stream",
     "text": [
      "\r",
      "[Stage 297:==================================================>     (9 + 1) / 10]\r"
     ]
    },
    {
     "name": "stdout",
     "output_type": "stream",
     "text": [
      "Requirement already satisfied: pyspark in /Users/adeeljaved/opt/anaconda3/lib/python3.9/site-packages (3.5.0)\n",
      "Requirement already satisfied: py4j==0.10.9.7 in /Users/adeeljaved/opt/anaconda3/lib/python3.9/site-packages (from pyspark) (0.10.9.7)\n",
      "\n",
      "\u001b[1m[\u001b[0m\u001b[34;49mnotice\u001b[0m\u001b[1;39;49m]\u001b[0m\u001b[39;49m A new release of pip is available: \u001b[0m\u001b[31;49m23.1.2\u001b[0m\u001b[39;49m -> \u001b[0m\u001b[32;49m23.3.1\u001b[0m\n",
      "\u001b[1m[\u001b[0m\u001b[34;49mnotice\u001b[0m\u001b[1;39;49m]\u001b[0m\u001b[39;49m To update, run: \u001b[0m\u001b[32;49mpip install --upgrade pip\u001b[0m\n"
     ]
    }
   ],
   "source": [
    "!pip install --default-timeout=300 pyspark"
   ]
  },
  {
   "cell_type": "code",
   "execution_count": 165,
   "metadata": {},
   "outputs": [],
   "source": [
    "import pyspark\n",
    "from pyspark.sql import *\n",
    "import pyspark.sql.functions as sqlF"
   ]
  },
  {
   "cell_type": "markdown",
   "metadata": {},
   "source": [
    "This is an example of reading the file using the spark.read method into a dataframe."
   ]
  },
  {
   "cell_type": "code",
   "execution_count": 10,
   "metadata": {},
   "outputs": [
    {
     "name": "stderr",
     "output_type": "stream",
     "text": [
      "Setting default log level to \"WARN\".\n",
      "To adjust logging level use sc.setLogLevel(newLevel). For SparkR, use setLogLevel(newLevel).\n",
      "23/12/01 12:04:29 WARN NativeCodeLoader: Unable to load native-hadoop library for your platform... using builtin-java classes where applicable\n",
      "23/12/01 12:04:30 WARN Utils: Service 'SparkUI' could not bind on port 4040. Attempting port 4041.\n"
     ]
    }
   ],
   "source": [
    "#sc = pyspark.SparkContext(\"local[*]\")\n",
    "spark = SparkSession.builder.appName('Practice3').getOrCreate()"
   ]
  },
  {
   "cell_type": "code",
   "execution_count": 166,
   "metadata": {},
   "outputs": [
    {
     "name": "stderr",
     "output_type": "stream",
     "text": [
      "                                                                                \r"
     ]
    },
    {
     "data": {
      "text/plain": [
       "3377335"
      ]
     },
     "execution_count": 166,
     "metadata": {},
     "output_type": "execute_result"
    },
    {
     "name": "stderr",
     "output_type": "stream",
     "text": [
      "23/12/01 14:25:05 WARN DAGScheduler: Broadcasting large task binary with size 1463.6 KiB\n",
      "                                                                                \r"
     ]
    }
   ],
   "source": [
    "input_file = '16-6.txt'\n",
    "\n",
    "df_dataraw = spark.read.option('delimiter',' ').option('quote','\\\"').option('header',True).text(input_file)\n",
    "df_dataraw_clean = df_dataraw.filter(\"value NOT LIKE '#%'\")\n",
    "df_dataraw_clean = df_dataraw_clean.filter(\"value != ''\")\n",
    "df_dataraw_clean = df_dataraw_clean.na.drop()\n",
    "df_dataraw_clean.count()"
   ]
  },
  {
   "cell_type": "markdown",
   "metadata": {},
   "source": [
    "### Data pre-processing\n",
    "\n",
    "\n",
    "- spliting the values and columns from the raw data above\n",
    "- convert columns to apprpriate datatypes\n",
    "- checking for missing values if there are any"
   ]
  },
  {
   "cell_type": "markdown",
   "metadata": {},
   "source": [
    "**Task 2.** Perform data cleansing and write any assumptions you made in the notes. Use the data to visualize the amount of activity in every hour of the day. Use a chart to do so after aggregating the information. "
   ]
  },
  {
   "cell_type": "code",
   "execution_count": 168,
   "metadata": {},
   "outputs": [],
   "source": [
    "from pyspark.sql.functions import split, col,hour,count\n",
    "from pyspark.sql.types import TimestampType\n",
    "\n",
    "df_preprocessed = df_dataraw_clean.select(\n",
    "    split(col(\"value\"), \" \").alias(\"split_columns\")\n",
    ").select(\n",
    "    *[col(\"split_columns\")[i].alias(headings[i]) for i in range(len(headings))]\n",
    ")"
   ]
  },
  {
   "cell_type": "code",
   "execution_count": 169,
   "metadata": {
    "scrolled": true
   },
   "outputs": [],
   "source": [
    "df_preprocessed = df_preprocessed.withColumn(\"date\", col(\"date\").cast(TimestampType()))"
   ]
  },
  {
   "cell_type": "code",
   "execution_count": 170,
   "metadata": {},
   "outputs": [],
   "source": [
    "df_preprocessed = df_preprocessed.na.drop()"
   ]
  },
  {
   "cell_type": "code",
   "execution_count": 171,
   "metadata": {},
   "outputs": [
    {
     "name": "stdout",
     "output_type": "stream",
     "text": [
      "+-------------------+--------+----------+---------------+---------+----------------+\n",
      "|               date|    time|time_taken|           c_ip|sc_status|        s_action|\n",
      "+-------------------+--------+----------+---------------+---------+----------------+\n",
      "|2008-06-16 00:00:00|13:00:00|       351|  192.168.39.53|      200|TCP_REFRESH_MISS|\n",
      "|2008-06-16 00:00:00|13:00:00|       440| 192.168.105.99|      200|     TCP_NC_MISS|\n",
      "|2008-06-16 00:00:00|13:00:00|       803|192.168.114.169|      302|     TCP_NC_MISS|\n",
      "|2008-06-16 00:00:00|13:00:00|       402| 192.168.54.105|      200|        TCP_MISS|\n",
      "|2008-06-16 00:00:00|13:00:00|         1| 192.168.105.99|      304|         TCP_HIT|\n",
      "+-------------------+--------+----------+---------------+---------+----------------+\n",
      "only showing top 5 rows\n",
      "\n"
     ]
    }
   ],
   "source": [
    "columns_to_display = [\"date\", \"time\", \"time_taken\", \"c_ip\", \"sc_status\",'s_action']\n",
    "df_preprocessed.select(columns_to_display).show(5)"
   ]
  },
  {
   "cell_type": "markdown",
   "metadata": {},
   "source": [
    "### assumtions about the data columns in the dataframe \n",
    "\n",
    "- date: This column appears to represent the date of the activity in the format 'YYYY-MM-DD'. The time component seems to be set to midnight for all entries.\n",
    "\n",
    "- time: This column seems to represent the time of the day in the format 'HH:mm:ss'. However, in the provided data, all entries have the same time '13:00:00', which might be a placeholder or default value. If the time is indeed constant for all entries, it might not provide useful information for analysis.\n",
    "\n",
    "- time_taken: This column could represent the time taken for the activity, possibly in milliseconds. The values seem to vary, suggesting different durations for different activities.\n",
    "\n",
    "- c_ip: This column likely represents the client IP address involved in the activity. Each entry appears to be an IPv4 address.\n",
    "\n",
    "- sc_status: This column represents the HTTP status code returned by the server. For example, '200' indicates a successful response, '302' is a redirection, and '304' is a not modified response.\n",
    "\n",
    "- s_action: This column might represent the action taken during the activity. Possible values include 'TCP_REFRESH_MISS', 'TCP_NC_MISS', 'TCP_NC_MISS', and 'TCP_HIT'. These values could be related to cache handling or request/response handling."
   ]
  },
  {
   "cell_type": "markdown",
   "metadata": {},
   "source": [
    "### Visualization"
   ]
  },
  {
   "cell_type": "code",
   "execution_count": 74,
   "metadata": {},
   "outputs": [
    {
     "name": "stderr",
     "output_type": "stream",
     "text": [
      "                                                                                \r"
     ]
    }
   ],
   "source": [
    "# WE need to aggregate the activity by date and time\n",
    "df_activity_over_time = df_preprocessed.groupBy([\"date\", \"time\"]).agg(count(\"*\").alias(\"activity_count\")).orderBy(\"date\")\n",
    "df_pandas_activity = df_activity_over_time.toPandas()\n"
   ]
  },
  {
   "cell_type": "code",
   "execution_count": 82,
   "metadata": {},
   "outputs": [],
   "source": [
    "df_pandas_activity['datetime'] = df_pandas_activity['date'] + pd.to_timedelta(df_pandas_activity['time'])\n",
    "df_pandas_activity = df_pandas_activity.sort_values(by='datetime')"
   ]
  },
  {
   "cell_type": "code",
   "execution_count": 83,
   "metadata": {},
   "outputs": [
    {
     "data": {
      "text/html": [
       "<div>\n",
       "<style scoped>\n",
       "    .dataframe tbody tr th:only-of-type {\n",
       "        vertical-align: middle;\n",
       "    }\n",
       "\n",
       "    .dataframe tbody tr th {\n",
       "        vertical-align: top;\n",
       "    }\n",
       "\n",
       "    .dataframe thead th {\n",
       "        text-align: right;\n",
       "    }\n",
       "</style>\n",
       "<table border=\"1\" class=\"dataframe\">\n",
       "  <thead>\n",
       "    <tr style=\"text-align: right;\">\n",
       "      <th></th>\n",
       "      <th>date</th>\n",
       "      <th>time</th>\n",
       "      <th>activity_count</th>\n",
       "      <th>datetime</th>\n",
       "    </tr>\n",
       "  </thead>\n",
       "  <tbody>\n",
       "    <tr>\n",
       "      <th>37778</th>\n",
       "      <td>2008-06-16</td>\n",
       "      <td>13:00:00</td>\n",
       "      <td>7</td>\n",
       "      <td>2008-06-16 13:00:00</td>\n",
       "    </tr>\n",
       "    <tr>\n",
       "      <th>14040</th>\n",
       "      <td>2008-06-16</td>\n",
       "      <td>13:00:01</td>\n",
       "      <td>53</td>\n",
       "      <td>2008-06-16 13:00:01</td>\n",
       "    </tr>\n",
       "    <tr>\n",
       "      <th>8979</th>\n",
       "      <td>2008-06-16</td>\n",
       "      <td>13:00:02</td>\n",
       "      <td>36</td>\n",
       "      <td>2008-06-16 13:00:02</td>\n",
       "    </tr>\n",
       "    <tr>\n",
       "      <th>32928</th>\n",
       "      <td>2008-06-16</td>\n",
       "      <td>13:00:03</td>\n",
       "      <td>25</td>\n",
       "      <td>2008-06-16 13:00:03</td>\n",
       "    </tr>\n",
       "    <tr>\n",
       "      <th>20890</th>\n",
       "      <td>2008-06-16</td>\n",
       "      <td>13:00:04</td>\n",
       "      <td>19</td>\n",
       "      <td>2008-06-16 13:00:04</td>\n",
       "    </tr>\n",
       "    <tr>\n",
       "      <th>...</th>\n",
       "      <td>...</td>\n",
       "      <td>...</td>\n",
       "      <td>...</td>\n",
       "      <td>...</td>\n",
       "    </tr>\n",
       "    <tr>\n",
       "      <th>83051</th>\n",
       "      <td>2008-06-17</td>\n",
       "      <td>12:59:56</td>\n",
       "      <td>62</td>\n",
       "      <td>2008-06-17 12:59:56</td>\n",
       "    </tr>\n",
       "    <tr>\n",
       "      <th>83912</th>\n",
       "      <td>2008-06-17</td>\n",
       "      <td>12:59:57</td>\n",
       "      <td>53</td>\n",
       "      <td>2008-06-17 12:59:57</td>\n",
       "    </tr>\n",
       "    <tr>\n",
       "      <th>83372</th>\n",
       "      <td>2008-06-17</td>\n",
       "      <td>12:59:58</td>\n",
       "      <td>63</td>\n",
       "      <td>2008-06-17 12:59:58</td>\n",
       "    </tr>\n",
       "    <tr>\n",
       "      <th>83688</th>\n",
       "      <td>2008-06-17</td>\n",
       "      <td>12:59:59</td>\n",
       "      <td>68</td>\n",
       "      <td>2008-06-17 12:59:59</td>\n",
       "    </tr>\n",
       "    <tr>\n",
       "      <th>83998</th>\n",
       "      <td>2008-06-17</td>\n",
       "      <td>13:00:00</td>\n",
       "      <td>59</td>\n",
       "      <td>2008-06-17 13:00:00</td>\n",
       "    </tr>\n",
       "  </tbody>\n",
       "</table>\n",
       "<p>85386 rows × 4 columns</p>\n",
       "</div>"
      ],
      "text/plain": [
       "            date      time  activity_count            datetime\n",
       "37778 2008-06-16  13:00:00               7 2008-06-16 13:00:00\n",
       "14040 2008-06-16  13:00:01              53 2008-06-16 13:00:01\n",
       "8979  2008-06-16  13:00:02              36 2008-06-16 13:00:02\n",
       "32928 2008-06-16  13:00:03              25 2008-06-16 13:00:03\n",
       "20890 2008-06-16  13:00:04              19 2008-06-16 13:00:04\n",
       "...          ...       ...             ...                 ...\n",
       "83051 2008-06-17  12:59:56              62 2008-06-17 12:59:56\n",
       "83912 2008-06-17  12:59:57              53 2008-06-17 12:59:57\n",
       "83372 2008-06-17  12:59:58              63 2008-06-17 12:59:58\n",
       "83688 2008-06-17  12:59:59              68 2008-06-17 12:59:59\n",
       "83998 2008-06-17  13:00:00              59 2008-06-17 13:00:00\n",
       "\n",
       "[85386 rows x 4 columns]"
      ]
     },
     "execution_count": 83,
     "metadata": {},
     "output_type": "execute_result"
    }
   ],
   "source": [
    "df_pandas_activity"
   ]
  },
  {
   "cell_type": "markdown",
   "metadata": {},
   "source": [
    "#### Total number of activities in the specific dateA"
   ]
  },
  {
   "cell_type": "code",
   "execution_count": 85,
   "metadata": {},
   "outputs": [
    {
     "data": {
      "image/png": "[encoded data removed]",
      "text/plain": [
       "<Figure size 864x432 with 1 Axes>"
      ]
     },
     "metadata": {
      "needs_background": "light"
     },
     "output_type": "display_data"
    }
   ],
   "source": [
    "import matplotlib.pyplot as plt\n",
    "import seaborn as sns\n",
    "\n",
    "# Plotting the activity over time.\n",
    "plt.figure(figsize=(12, 6))\n",
    "plt.plot(list(df_pandas_activity['datetime']), list(df_pandas_activity['activity_count']), linestyle='-')\n",
    "plt.title(\"Activity Over Time\")\n",
    "plt.xlabel(\"Datetime\")\n",
    "plt.ylabel(\"Number of Activities\")\n",
    "plt.xticks(rotation=45, ha='right')\n",
    "plt.tight_layout()\n",
    "plt.show()"
   ]
  },
  {
   "cell_type": "markdown",
   "metadata": {},
   "source": [
    "**Task 3.**\tPerform exploratory data analysis on the loaded data by obtaining the following statistics and drawing them in charts:\n",
    "\n",
    "1. What is the 10 most accessed websites?\n",
    "\n",
    "1. What are the top 10 domains accessed by the local machines?\n",
    "\n",
    "1. What is the 10 most accessed types of requests?\n",
    "\n",
    "1. What is the percentage of valid vs invalid requests?\n",
    "\n",
    "1. What is the popular browsers used by uses?\n",
    "\n",
    "1. What is the top 20 ip addresses with the highest traffic in this day?\n"
   ]
  },
  {
   "cell_type": "markdown",
   "metadata": {},
   "source": [
    "#### 1) What is the 10 most accessed websites?\n",
    "\n",
    "Groupin the data by 'cs_host' and count the occurrences will let us find the top accessed websites. "
   ]
  },
  {
   "cell_type": "code",
   "execution_count": 87,
   "metadata": {},
   "outputs": [
    {
     "name": "stderr",
     "output_type": "stream",
     "text": [
      "[Stage 83:===================================================>     (9 + 1) / 10]\r"
     ]
    },
    {
     "name": "stdout",
     "output_type": "stream",
     "text": [
      "+--------------------+------+\n",
      "|             cs_host| count|\n",
      "+--------------------+------+\n",
      "|  master.dyngate.com|128722|\n",
      "|          dl.free.fr|127521|\n",
      "|     mail.google.com| 68835|\n",
      "|     tbn0.google.com| 44855|\n",
      "| www.alwasatnews.com| 38074|\n",
      "|www.google-analyt...| 36054|\n",
      "|   www.gulfdreem.com| 32164|\n",
      "|      www.alayam.com| 31436|\n",
      "|pagead2.googlesyn...| 29785|\n",
      "|                   -| 29538|\n",
      "+--------------------+------+\n",
      "\n"
     ]
    },
    {
     "name": "stderr",
     "output_type": "stream",
     "text": [
      "\r",
      "                                                                                \r"
     ]
    }
   ],
   "source": [
    "from pyspark.sql.functions import col, desc\n",
    "\n",
    "df_website_counts = df_preprocessed.groupBy(\"cs_host\").count()\n",
    "df_top_websites = df_website_counts.orderBy(desc(\"count\"))\n",
    "\n",
    "df_top_10_websites = df_top_websites.limit(10)\n",
    "df_top_10_websites.show()"
   ]
  },
  {
   "cell_type": "markdown",
   "metadata": {},
   "source": [
    "#### 2) What are the top 10 domains accessed by the local machines?\n",
    "\n",
    "Grouping the data based on c_ip column of the our processed dataframe"
   ]
  },
  {
   "cell_type": "code",
   "execution_count": 90,
   "metadata": {},
   "outputs": [
    {
     "name": "stderr",
     "output_type": "stream",
     "text": [
      "[Stage 86:===================================================>     (9 + 1) / 10]\r"
     ]
    },
    {
     "name": "stdout",
     "output_type": "stream",
     "text": [
      "+---------------+------+\n",
      "|           c_ip| count|\n",
      "+---------------+------+\n",
      "|   192.168.2.20|171913|\n",
      "|192.168.114.169|131722|\n",
      "|192.168.226.236|129579|\n",
      "|192.168.114.160|102002|\n",
      "|  192.168.54.37| 53887|\n",
      "| 192.168.108.40| 30602|\n",
      "| 192.168.227.40| 23551|\n",
      "|  192.168.94.67| 21090|\n",
      "|192.168.114.170| 19972|\n",
      "|  192.168.85.89| 18576|\n",
      "+---------------+------+\n",
      "\n"
     ]
    },
    {
     "name": "stderr",
     "output_type": "stream",
     "text": [
      "\r",
      "                                                                                \r"
     ]
    }
   ],
   "source": [
    "df_local_domains = df_preprocessed.filter(col(\"c_ip\").startswith(\"192.168.\"))\n",
    "df_domain_counts = df_local_domains.groupBy(\"c_ip\").count()\n",
    "df_top_domains = df_domain_counts.orderBy(desc(\"count\"))\n",
    "\n",
    "df_top_10_domains = df_top_domains.limit(10)\n",
    "df_top_10_domains.show()"
   ]
  },
  {
   "cell_type": "markdown",
   "metadata": {},
   "source": [
    "#### 3) What is the 10 most accessed types of requests?\n",
    "\n",
    "Groupin the data by 'cs_method' and count the occurrences"
   ]
  },
  {
   "cell_type": "code",
   "execution_count": 91,
   "metadata": {},
   "outputs": [
    {
     "name": "stderr",
     "output_type": "stream",
     "text": [
      "[Stage 89:===================================================>     (9 + 1) / 10]\r"
     ]
    },
    {
     "name": "stdout",
     "output_type": "stream",
     "text": [
      "+---------+-------+\n",
      "|cs_method|  count|\n",
      "+---------+-------+\n",
      "|      GET|2998967|\n",
      "|  CONNECT| 180099|\n",
      "|     POST| 146537|\n",
      "|  unknown|  28626|\n",
      "|     HEAD|  14435|\n",
      "| PROPFIND|   5752|\n",
      "|     OPEN|    981|\n",
      "|  OPTIONS|    384|\n",
      "|PROPPATCH|    275|\n",
      "| REGISTER|     45|\n",
      "+---------+-------+\n",
      "\n"
     ]
    },
    {
     "name": "stderr",
     "output_type": "stream",
     "text": [
      "\r",
      "                                                                                \r"
     ]
    }
   ],
   "source": [
    "\n",
    "df_request_counts = df_preprocessed.groupBy(\"cs_method\").count()\n",
    "df_top_requests = df_request_counts.orderBy(desc(\"count\"))\n",
    "\n",
    "df_top_10_requests = df_top_requests.limit(10)\n",
    "df_top_10_requests.show()"
   ]
  },
  {
   "cell_type": "markdown",
   "metadata": {},
   "source": [
    "#### 4) What is the percentage of valid vs invalid requests?\n",
    "\n",
    "\n",
    "we will first take the total number of requests in the dataframe then we are going to Count the number of valid requests (assuming status code 200 represents valid requests)"
   ]
  },
  {
   "cell_type": "code",
   "execution_count": 93,
   "metadata": {},
   "outputs": [
    {
     "name": "stderr",
     "output_type": "stream",
     "text": [
      "[Stage 98:===================================================>     (9 + 1) / 10]\r"
     ]
    },
    {
     "name": "stdout",
     "output_type": "stream",
     "text": [
      "Percentage of Valid Requests: 65.88%\n",
      "Percentage of Invalid Requests: 34.12%\n"
     ]
    },
    {
     "name": "stderr",
     "output_type": "stream",
     "text": [
      "\r",
      "                                                                                \r"
     ]
    }
   ],
   "source": [
    "\n",
    "total_requests = df_preprocessed.count()\n",
    "valid_requests = df_preprocessed.filter(col(\"sc_status\") == 200).count()\n",
    "\n",
    "invalid_requests = total_requests - valid_requests\n",
    "\n",
    "perc_valid = (valid_requests / total_requests) * 100\n",
    "perc_invalid = (invalid_requests / total_requests) * 100\n",
    "\n",
    "print(f\"Percentage of Valid Requests: {perc_valid:.2f}%\")\n",
    "print(f\"Percentage of Invalid Requests: {perc_invalid:.2f}%\")"
   ]
  },
  {
   "cell_type": "markdown",
   "metadata": {},
   "source": [
    "#### 5) What is the popular browsers used by uses?\n",
    "To get the top populat browsers used by users we need to Group by 'cs_User_Agent' and count the total occurrences of each user agent"
   ]
  },
  {
   "cell_type": "code",
   "execution_count": 94,
   "metadata": {},
   "outputs": [
    {
     "name": "stderr",
     "output_type": "stream",
     "text": [
      "[Stage 101:==================================================>     (9 + 1) / 10]\r"
     ]
    },
    {
     "name": "stdout",
     "output_type": "stream",
     "text": [
      "+--------------------------------------------+-------+\n",
      "|cs_User_Agent                               |count  |\n",
      "+--------------------------------------------+-------+\n",
      "|\"Mozilla/4.0                                |2770857|\n",
      "|\"Mozilla/5.0                                |178615 |\n",
      "|-                                           |168125 |\n",
      "|\"Smc\"                                       |54473  |\n",
      "|\"Microsoft                                  |38895  |\n",
      "|\"Windows-Update-Agent\"                      |19583  |\n",
      "|\"VCSoapClient\"                              |16692  |\n",
      "|\"Internet                                   |10780  |\n",
      "|\"Opera/9.50                                 |10634  |\n",
      "|\"GoogleEarth/4.3.7204.0836(Windows;Microsoft|8339   |\n",
      "+--------------------------------------------+-------+\n",
      "\n"
     ]
    },
    {
     "name": "stderr",
     "output_type": "stream",
     "text": [
      "\r",
      "                                                                                \r"
     ]
    }
   ],
   "source": [
    "df_browser_counts = df_preprocessed.groupBy(\"cs_User_Agent\").count()\n",
    "df_top_browsers = df_browser_counts.orderBy(desc(\"count\"))\n",
    "\n",
    "df_top_10_browsers = df_top_browsers.limit(10)\n",
    "df_top_10_browsers.show(truncate=False)"
   ]
  },
  {
   "cell_type": "markdown",
   "metadata": {},
   "source": [
    "#### 6) What is the top 20 ip addresses with the highest traffic in this day?\n",
    "\n",
    "- select the specific date and then filter the column of dataset for that specific date\n",
    "- The compute the sum of total traffic for each s_ip on that particular date"
   ]
  },
  {
   "cell_type": "code",
   "execution_count": 96,
   "metadata": {},
   "outputs": [
    {
     "name": "stderr",
     "output_type": "stream",
     "text": [
      "[Stage 104:==================================================>     (9 + 1) / 10]\r"
     ]
    },
    {
     "name": "stdout",
     "output_type": "stream",
     "text": [
      "+------------------------------+-------------+\n",
      "|s_ip                          |total_traffic|\n",
      "+------------------------------+-------------+\n",
      "|Windows                       |5.030909402E9|\n",
      "|192.168.2.21                  |3.686169819E9|\n",
      "|-                             |9.63862251E8 |\n",
      "|192.168.2.12                  |1.06845779E8 |\n",
      "|U;                            |6.6999718E7  |\n",
      "|NT                            |2.9759495E7  |\n",
      "|\"Religion\"                    |2.6385151E7  |\n",
      "|\"News/Media\"                  |8686517.0    |\n",
      "|Groups\"                       |6932407.0    |\n",
      "|\"Computers/Internet\"          |6261198.0    |\n",
      "|\"Arts/Entertainment\"          |5276912.0    |\n",
      "|32bit;                        |5069823.0    |\n",
      "|\"Software                     |3240483.0    |\n",
      "|OBSERVED                      |2861695.0    |\n",
      "|\"Search                       |2364024.0    |\n",
      "|\"Computers/Internet;Streaming |1733305.0    |\n",
      "|Patches\"                      |1520807.0    |\n",
      "|Mac                           |1461676.0    |\n",
      "|Effects/Privacy               |1342989.0    |\n",
      "|hbt-hb-10.0.356.0-un_srv.exe)\"|1204434.0    |\n",
      "+------------------------------+-------------+\n",
      "\n"
     ]
    },
    {
     "name": "stderr",
     "output_type": "stream",
     "text": [
      "\r",
      "                                                                                \r"
     ]
    }
   ],
   "source": [
    "specific_date = \"2008-06-16\"\n",
    "df_specific_date = df_preprocessed.filter(col(\"date\") == specific_date)\n",
    "\n",
    "df_traffic_per_ip = df_specific_date.groupBy(\"s_ip\").agg({\"sc_bytes\": \"sum\"}).withColumnRenamed(\"sum(sc_bytes)\", \"total_traffic\")\n",
    "\n",
    "df_top_ips = df_traffic_per_ip.orderBy(desc(\"total_traffic\"))\n",
    "\n",
    "df_top_20_ips = df_top_ips.limit(20)\n",
    "df_top_20_ips.show(truncate=False)"
   ]
  },
  {
   "cell_type": "markdown",
   "metadata": {},
   "source": [
    "**Task 4.** Perform clustering on the IP addresses based on the websites they access. To do so you will have to transform this information into a vector and then use k-means to find clusers for k=5,6,7,8,9, and 10.\n",
    "\n",
    "A lot will depend on how you can represent the web domains that are being contacted by the internal end points (IP addresses). You can always create a list of the websites accessed during this whole day and represent them by numbers. Then use these numbers to identify which websites were accessed in a 0/1 list for each of the internal endpoints. This will be of course a big sparse list.\n",
    "\n",
    "Calculate the Silhouette Index for each cluster and choose the best k. \n"
   ]
  },
  {
   "cell_type": "markdown",
   "metadata": {},
   "source": [
    "#### Clustering processing steps\n",
    "Following steps were included in order to genrate clusters for Ip address\n",
    "\n",
    "- Slecting the required columns from the full dataset\n",
    "- Creating the list of unique websites accessed\n",
    "- Maping the website names to indices\n",
    "- Creating a sparse vector representation for each IP address\n",
    "- Stdandrizing the vectors using standards scaler\n",
    "- Checking Kmeans model on 5 different values of k \n",
    "- Choosing best k values using best silhouette score"
   ]
  },
  {
   "cell_type": "code",
   "execution_count": 172,
   "metadata": {},
   "outputs": [],
   "source": [
    "# Select relevant columns\n",
    "selected_columns = ['c_ip', 'cs_host']\n",
    "df_selected = df_preprocessed.select(selected_columns)"
   ]
  },
  {
   "cell_type": "code",
   "execution_count": 173,
   "metadata": {},
   "outputs": [
    {
     "name": "stderr",
     "output_type": "stream",
     "text": [
      "                                                                                \r"
     ]
    }
   ],
   "source": [
    "# Creating a list of unique websites accessed\n",
    "websites = df_selected.select('cs_host').distinct().rdd.flatMap(lambda x: x).collect()"
   ]
  },
  {
   "cell_type": "code",
   "execution_count": 174,
   "metadata": {},
   "outputs": [],
   "source": [
    "# Create a mapping of website names to indices\n",
    "from pyspark.ml.feature import StringIndexer, VectorAssembler\n",
    "website_indexer = StringIndexer(inputCol='cs_host', outputCol='website_index')\n",
    "df_indexed = df_indexed.withColumn('website_index', df_indexed['website_index'].cast('double'))"
   ]
  },
  {
   "cell_type": "code",
   "execution_count": 175,
   "metadata": {},
   "outputs": [
    {
     "name": "stdout",
     "output_type": "stream",
     "text": [
      "+---------------+--------------------+-------------+\n",
      "|           c_ip|             cs_host|website_index|\n",
      "+---------------+--------------------+-------------+\n",
      "|  192.168.39.53|   www.dinamalar.com|        798.0|\n",
      "| 192.168.105.99|acvs.mediaonenetw...|       5549.0|\n",
      "|192.168.114.169|          dl.free.fr|          1.0|\n",
      "| 192.168.54.105|       www.diino.com|        618.0|\n",
      "| 192.168.105.99|           msn.co.nz|        450.0|\n",
      "| 192.168.105.99|           msn.co.nz|        450.0|\n",
      "| 192.168.105.99|           msn.co.nz|        450.0|\n",
      "| 192.168.105.99|           msn.co.nz|        450.0|\n",
      "| 192.168.105.99|           msn.co.nz|        450.0|\n",
      "| 192.168.105.99|           msn.co.nz|        450.0|\n",
      "| 192.168.105.99|           msn.co.nz|        450.0|\n",
      "| 192.168.105.99|           msn.co.nz|        450.0|\n",
      "| 192.168.105.99|           msn.co.nz|        450.0|\n",
      "| 192.168.105.99|           msn.co.nz|        450.0|\n",
      "| 192.168.105.99|           msn.co.nz|        450.0|\n",
      "| 192.168.105.99|           msn.co.nz|        450.0|\n",
      "|192.168.114.160|      85.179.222.201|       5457.0|\n",
      "|  192.168.39.53|         64.27.74.18|       3845.0|\n",
      "|  192.168.5.112|        192.168.5.26|         22.0|\n",
      "|  192.168.93.37|www.unite-student...|       6265.0|\n",
      "+---------------+--------------------+-------------+\n",
      "only showing top 20 rows\n",
      "\n"
     ]
    },
    {
     "name": "stderr",
     "output_type": "stream",
     "text": [
      "23/12/01 14:26:28 WARN DAGScheduler: Broadcasting large task binary with size 1436.1 KiB\n"
     ]
    }
   ],
   "source": [
    "df_indexed.show()"
   ]
  },
  {
   "cell_type": "code",
   "execution_count": 176,
   "metadata": {},
   "outputs": [
    {
     "name": "stdout",
     "output_type": "stream",
     "text": [
      "+---------------+--------------------+-------------+--------+\n",
      "|           c_ip|             cs_host|website_index|features|\n",
      "+---------------+--------------------+-------------+--------+\n",
      "|  192.168.39.53|   www.dinamalar.com|        798.0| [798.0]|\n",
      "| 192.168.105.99|acvs.mediaonenetw...|       5549.0|[5549.0]|\n",
      "|192.168.114.169|          dl.free.fr|          1.0|   [1.0]|\n",
      "| 192.168.54.105|       www.diino.com|        618.0| [618.0]|\n",
      "| 192.168.105.99|           msn.co.nz|        450.0| [450.0]|\n",
      "| 192.168.105.99|           msn.co.nz|        450.0| [450.0]|\n",
      "| 192.168.105.99|           msn.co.nz|        450.0| [450.0]|\n",
      "| 192.168.105.99|           msn.co.nz|        450.0| [450.0]|\n",
      "| 192.168.105.99|           msn.co.nz|        450.0| [450.0]|\n",
      "| 192.168.105.99|           msn.co.nz|        450.0| [450.0]|\n",
      "| 192.168.105.99|           msn.co.nz|        450.0| [450.0]|\n",
      "| 192.168.105.99|           msn.co.nz|        450.0| [450.0]|\n",
      "| 192.168.105.99|           msn.co.nz|        450.0| [450.0]|\n",
      "| 192.168.105.99|           msn.co.nz|        450.0| [450.0]|\n",
      "| 192.168.105.99|           msn.co.nz|        450.0| [450.0]|\n",
      "| 192.168.105.99|           msn.co.nz|        450.0| [450.0]|\n",
      "|192.168.114.160|      85.179.222.201|       5457.0|[5457.0]|\n",
      "|  192.168.39.53|         64.27.74.18|       3845.0|[3845.0]|\n",
      "|  192.168.5.112|        192.168.5.26|         22.0|  [22.0]|\n",
      "|  192.168.93.37|www.unite-student...|       6265.0|[6265.0]|\n",
      "+---------------+--------------------+-------------+--------+\n",
      "only showing top 20 rows\n",
      "\n"
     ]
    },
    {
     "name": "stderr",
     "output_type": "stream",
     "text": [
      "23/12/01 14:26:31 WARN DAGScheduler: Broadcasting large task binary with size 1443.9 KiB\n"
     ]
    }
   ],
   "source": [
    "# Creating a sparse vector representation for each IP address\n",
    "assembler = VectorAssembler(inputCols=['website_index'], outputCol='features')\n",
    "\n",
    "df_vectorized = assembler.transform(df_indexed)\n",
    "df_vectorized.show()"
   ]
  },
  {
   "cell_type": "code",
   "execution_count": 177,
   "metadata": {},
   "outputs": [
    {
     "name": "stderr",
     "output_type": "stream",
     "text": [
      "23/12/01 14:26:34 WARN DAGScheduler: Broadcasting large task binary with size 1455.9 KiB\n",
      "23/12/01 14:27:01 WARN DAGScheduler: Broadcasting large task binary with size 1454.8 KiB\n",
      "                                                                                \r"
     ]
    }
   ],
   "source": [
    "from pyspark.ml.feature import StandardScaler\n",
    "scaler = StandardScaler(inputCol='features', outputCol='scaled_features')\n",
    "scaler_model = scaler.fit(df_vectorized)\n",
    "df = scaler_model.transform(df_vectorized)"
   ]
  },
  {
   "cell_type": "code",
   "execution_count": 178,
   "metadata": {},
   "outputs": [
    {
     "name": "stdout",
     "output_type": "stream",
     "text": [
      "+---------------+--------------------+-------------+--------+--------------------+\n",
      "|           c_ip|             cs_host|website_index|features|     scaled_features|\n",
      "+---------------+--------------------+-------------+--------+--------------------+\n",
      "|  192.168.39.53|   www.dinamalar.com|        798.0| [798.0]|[0.2631589780203651]|\n",
      "| 192.168.105.99|acvs.mediaonenetw...|       5549.0|[5549.0]|[1.8299112393922377]|\n",
      "|192.168.114.169|          dl.free.fr|          1.0|   [1.0]|[3.29773155413991...|\n",
      "| 192.168.54.105|       www.diino.com|        618.0| [618.0]|[0.20379981004584...|\n",
      "| 192.168.105.99|           msn.co.nz|        450.0| [450.0]|[0.14839791993629...|\n",
      "| 192.168.105.99|           msn.co.nz|        450.0| [450.0]|[0.14839791993629...|\n",
      "| 192.168.105.99|           msn.co.nz|        450.0| [450.0]|[0.14839791993629...|\n",
      "| 192.168.105.99|           msn.co.nz|        450.0| [450.0]|[0.14839791993629...|\n",
      "| 192.168.105.99|           msn.co.nz|        450.0| [450.0]|[0.14839791993629...|\n",
      "| 192.168.105.99|           msn.co.nz|        450.0| [450.0]|[0.14839791993629...|\n",
      "| 192.168.105.99|           msn.co.nz|        450.0| [450.0]|[0.14839791993629...|\n",
      "| 192.168.105.99|           msn.co.nz|        450.0| [450.0]|[0.14839791993629...|\n",
      "| 192.168.105.99|           msn.co.nz|        450.0| [450.0]|[0.14839791993629...|\n",
      "| 192.168.105.99|           msn.co.nz|        450.0| [450.0]|[0.14839791993629...|\n",
      "| 192.168.105.99|           msn.co.nz|        450.0| [450.0]|[0.14839791993629...|\n",
      "| 192.168.105.99|           msn.co.nz|        450.0| [450.0]|[0.14839791993629...|\n",
      "|192.168.114.160|      85.179.222.201|       5457.0|[5457.0]|[1.7995721090941506]|\n",
      "|  192.168.39.53|         64.27.74.18|       3845.0|[3845.0]|[1.2679777825667966]|\n",
      "|  192.168.5.112|        192.168.5.26|         22.0|  [22.0]|[0.00725500941910...|\n",
      "|  192.168.93.37|www.unite-student...|       6265.0|[6265.0]|[2.0660288186686557]|\n",
      "+---------------+--------------------+-------------+--------+--------------------+\n",
      "only showing top 20 rows\n",
      "\n"
     ]
    },
    {
     "name": "stderr",
     "output_type": "stream",
     "text": [
      "23/12/01 14:27:01 WARN DAGScheduler: Broadcasting large task binary with size 1448.9 KiB\n"
     ]
    }
   ],
   "source": [
    "df.show()"
   ]
  },
  {
   "cell_type": "code",
   "execution_count": 180,
   "metadata": {},
   "outputs": [
    {
     "name": "stderr",
     "output_type": "stream",
     "text": [
      "23/12/01 14:34:37 WARN DAGScheduler: Broadcasting large task binary with size 1467.9 KiB\n",
      "23/12/01 14:35:20 WARN DAGScheduler: Broadcasting large task binary with size 1478.3 KiB\n",
      "23/12/01 14:35:21 WARN DAGScheduler: Broadcasting large task binary with size 1479.0 KiB\n",
      "23/12/01 14:35:22 WARN DAGScheduler: Broadcasting large task binary with size 1479.4 KiB\n",
      "23/12/01 14:35:22 WARN DAGScheduler: Broadcasting large task binary with size 1479.4 KiB\n",
      "23/12/01 14:35:23 WARN DAGScheduler: Broadcasting large task binary with size 1479.7 KiB\n",
      "23/12/01 14:35:23 WARN DAGScheduler: Broadcasting large task binary with size 1480.3 KiB\n",
      "23/12/01 14:35:24 WARN DAGScheduler: Broadcasting large task binary with size 1479.6 KiB\n",
      "23/12/01 14:35:24 WARN DAGScheduler: Broadcasting large task binary with size 1479.6 KiB\n",
      "23/12/01 14:35:25 WARN DAGScheduler: Broadcasting large task binary with size 1479.6 KiB\n",
      "23/12/01 14:35:25 WARN DAGScheduler: Broadcasting large task binary with size 1479.6 KiB\n",
      "23/12/01 14:35:25 WARN DAGScheduler: Broadcasting large task binary with size 1460.4 KiB\n",
      "23/12/01 14:35:25 WARN DAGScheduler: Broadcasting large task binary with size 1479.6 KiB\n",
      "23/12/01 14:35:25 WARN DAGScheduler: Broadcasting large task binary with size 1479.6 KiB\n",
      "23/12/01 14:35:25 WARN DAGScheduler: Broadcasting large task binary with size 1477.7 KiB\n",
      "23/12/01 14:36:13 WARN DAGScheduler: Broadcasting large task binary with size 1479.6 KiB\n",
      "23/12/01 14:36:16 WARN DAGScheduler: Broadcasting large task binary with size 1479.6 KiB\n",
      "23/12/01 14:36:17 WARN DAGScheduler: Broadcasting large task binary with size 1479.6 KiB\n",
      "23/12/01 14:36:17 WARN DAGScheduler: Broadcasting large task binary with size 1479.6 KiB\n",
      "23/12/01 14:36:17 WARN DAGScheduler: Broadcasting large task binary with size 1479.6 KiB\n",
      "23/12/01 14:36:18 WARN DAGScheduler: Broadcasting large task binary with size 1479.6 KiB\n",
      "23/12/01 14:36:18 WARN DAGScheduler: Broadcasting large task binary with size 1479.6 KiB\n",
      "23/12/01 14:36:18 WARN DAGScheduler: Broadcasting large task binary with size 1479.6 KiB\n",
      "23/12/01 14:36:19 WARN DAGScheduler: Broadcasting large task binary with size 1479.6 KiB\n",
      "23/12/01 14:36:19 WARN DAGScheduler: Broadcasting large task binary with size 1479.6 KiB\n",
      "23/12/01 14:36:19 WARN DAGScheduler: Broadcasting large task binary with size 1479.6 KiB\n",
      "23/12/01 14:36:19 WARN DAGScheduler: Broadcasting large task binary with size 1479.6 KiB\n",
      "23/12/01 14:36:20 WARN DAGScheduler: Broadcasting large task binary with size 1479.6 KiB\n",
      "23/12/01 14:36:20 WARN DAGScheduler: Broadcasting large task binary with size 1479.6 KiB\n",
      "23/12/01 14:36:20 WARN DAGScheduler: Broadcasting large task binary with size 1477.8 KiB\n",
      "23/12/01 14:36:58 WARN DAGScheduler: Broadcasting large task binary with size 1478.3 KiB\n",
      "23/12/01 14:36:59 WARN DAGScheduler: Broadcasting large task binary with size 1479.0 KiB\n",
      "23/12/01 14:36:59 WARN DAGScheduler: Broadcasting large task binary with size 1479.4 KiB\n",
      "23/12/01 14:37:00 WARN DAGScheduler: Broadcasting large task binary with size 1479.4 KiB\n",
      "23/12/01 14:37:00 WARN DAGScheduler: Broadcasting large task binary with size 1479.7 KiB\n",
      "23/12/01 14:37:00 WARN DAGScheduler: Broadcasting large task binary with size 1480.3 KiB\n",
      "23/12/01 14:37:01 WARN DAGScheduler: Broadcasting large task binary with size 1479.6 KiB\n",
      "23/12/01 14:37:01 WARN DAGScheduler: Broadcasting large task binary with size 1479.6 KiB\n",
      "23/12/01 14:37:02 WARN DAGScheduler: Broadcasting large task binary with size 1479.6 KiB\n",
      "23/12/01 14:37:02 WARN DAGScheduler: Broadcasting large task binary with size 1479.6 KiB\n",
      "23/12/01 14:37:02 WARN DAGScheduler: Broadcasting large task binary with size 1479.6 KiB\n",
      "23/12/01 14:37:02 WARN DAGScheduler: Broadcasting large task binary with size 1479.6 KiB\n",
      "23/12/01 14:37:03 WARN DAGScheduler: Broadcasting large task binary with size 1479.6 KiB\n",
      "23/12/01 14:37:03 WARN DAGScheduler: Broadcasting large task binary with size 1479.6 KiB\n",
      "23/12/01 14:37:03 WARN DAGScheduler: Broadcasting large task binary with size 1479.6 KiB\n",
      "23/12/01 14:37:03 WARN DAGScheduler: Broadcasting large task binary with size 1479.6 KiB\n",
      "23/12/01 14:37:03 WARN DAGScheduler: Broadcasting large task binary with size 1479.6 KiB\n",
      "23/12/01 14:37:04 WARN DAGScheduler: Broadcasting large task binary with size 1479.6 KiB\n",
      "23/12/01 14:37:04 WARN DAGScheduler: Broadcasting large task binary with size 1479.6 KiB\n",
      "23/12/01 14:37:04 WARN DAGScheduler: Broadcasting large task binary with size 1479.6 KiB\n",
      "23/12/01 14:37:04 WARN DAGScheduler: Broadcasting large task binary with size 1479.6 KiB\n",
      "23/12/01 14:37:04 WARN DAGScheduler: Broadcasting large task binary with size 1479.6 KiB\n",
      "23/12/01 14:37:04 WARN DAGScheduler: Broadcasting large task binary with size 1479.6 KiB\n",
      "23/12/01 14:37:05 WARN DAGScheduler: Broadcasting large task binary with size 1479.6 KiB\n",
      "23/12/01 14:37:05 WARN DAGScheduler: Broadcasting large task binary with size 1479.6 KiB\n",
      "23/12/01 14:37:05 WARN DAGScheduler: Broadcasting large task binary with size 1479.6 KiB\n",
      "23/12/01 14:37:05 WARN DAGScheduler: Broadcasting large task binary with size 1477.8 KiB\n",
      "23/12/01 14:37:06 WARN DAGScheduler: Broadcasting large task binary with size 1463.6 KiB\n",
      "23/12/01 14:37:35 WARN DAGScheduler: Broadcasting large task binary with size 1463.6 KiB\n",
      "23/12/01 14:37:35 WARN DAGScheduler: Broadcasting large task binary with size 1479.7 KiB\n",
      "23/12/01 14:38:05 WARN DAGScheduler: Broadcasting large task binary with size 1478.8 KiB\n",
      "23/12/01 14:38:35 WARN DAGScheduler: Broadcasting large task binary with size 1467.9 KiB\n"
     ]
    },
    {
     "name": "stdout",
     "output_type": "stream",
     "text": [
      "Silhouette Index for k=5: 0.8873984244242376\n"
     ]
    },
    {
     "name": "stderr",
     "output_type": "stream",
     "text": [
      "23/12/01 14:39:03 WARN DAGScheduler: Broadcasting large task binary with size 1460.4 KiB\n",
      "23/12/01 14:39:04 WARN DAGScheduler: Broadcasting large task binary with size 1477.7 KiB\n",
      "23/12/01 14:40:09 WARN DAGScheduler: Broadcasting large task binary with size 1478.3 KiB\n",
      "23/12/01 14:40:10 WARN DAGScheduler: Broadcasting large task binary with size 1479.0 KiB\n",
      "23/12/01 14:40:11 WARN DAGScheduler: Broadcasting large task binary with size 1479.4 KiB\n",
      "23/12/01 14:40:11 WARN DAGScheduler: Broadcasting large task binary with size 1479.4 KiB\n",
      "23/12/01 14:40:11 WARN DAGScheduler: Broadcasting large task binary with size 1479.7 KiB\n",
      "23/12/01 14:40:11 WARN DAGScheduler: Broadcasting large task binary with size 1480.3 KiB\n",
      "23/12/01 14:40:12 WARN DAGScheduler: Broadcasting large task binary with size 1479.6 KiB\n",
      "23/12/01 14:40:12 WARN DAGScheduler: Broadcasting large task binary with size 1479.6 KiB\n",
      "23/12/01 14:40:13 WARN DAGScheduler: Broadcasting large task binary with size 1479.6 KiB\n",
      "23/12/01 14:40:13 WARN DAGScheduler: Broadcasting large task binary with size 1479.6 KiB\n",
      "23/12/01 14:40:13 WARN DAGScheduler: Broadcasting large task binary with size 1479.6 KiB\n",
      "23/12/01 14:40:13 WARN DAGScheduler: Broadcasting large task binary with size 1479.6 KiB\n",
      "23/12/01 14:40:13 WARN DAGScheduler: Broadcasting large task binary with size 1479.6 KiB\n",
      "23/12/01 14:40:14 WARN DAGScheduler: Broadcasting large task binary with size 1479.6 KiB\n",
      "23/12/01 14:40:14 WARN DAGScheduler: Broadcasting large task binary with size 1479.6 KiB\n",
      "23/12/01 14:40:14 WARN DAGScheduler: Broadcasting large task binary with size 1479.6 KiB\n",
      "23/12/01 14:40:14 WARN DAGScheduler: Broadcasting large task binary with size 1479.6 KiB\n",
      "23/12/01 14:40:14 WARN DAGScheduler: Broadcasting large task binary with size 1479.6 KiB\n",
      "23/12/01 14:40:14 WARN DAGScheduler: Broadcasting large task binary with size 1479.6 KiB\n",
      "23/12/01 14:40:14 WARN DAGScheduler: Broadcasting large task binary with size 1479.6 KiB\n",
      "23/12/01 14:40:15 WARN DAGScheduler: Broadcasting large task binary with size 1479.6 KiB\n",
      "23/12/01 14:40:15 WARN DAGScheduler: Broadcasting large task binary with size 1479.6 KiB\n",
      "23/12/01 14:40:15 WARN DAGScheduler: Broadcasting large task binary with size 1479.6 KiB\n",
      "23/12/01 14:40:15 WARN DAGScheduler: Broadcasting large task binary with size 1479.6 KiB\n",
      "23/12/01 14:40:15 WARN DAGScheduler: Broadcasting large task binary with size 1479.6 KiB\n",
      "23/12/01 14:40:15 WARN DAGScheduler: Broadcasting large task binary with size 1479.6 KiB\n",
      "23/12/01 14:40:16 WARN DAGScheduler: Broadcasting large task binary with size 1477.8 KiB\n",
      "23/12/01 14:40:47 WARN DAGScheduler: Broadcasting large task binary with size 1463.6 KiB\n",
      "23/12/01 14:40:47 WARN DAGScheduler: Broadcasting large task binary with size 1479.7 KiB\n",
      "23/12/01 14:41:17 WARN DAGScheduler: Broadcasting large task binary with size 1478.9 KiB\n",
      "23/12/01 14:41:47 WARN DAGScheduler: Broadcasting large task binary with size 1467.9 KiB\n"
     ]
    },
    {
     "name": "stdout",
     "output_type": "stream",
     "text": [
      "Silhouette Index for k=6: 0.8707818179380322\n"
     ]
    },
    {
     "name": "stderr",
     "output_type": "stream",
     "text": [
      "23/12/01 14:42:16 WARN DAGScheduler: Broadcasting large task binary with size 1460.4 KiB\n",
      "23/12/01 14:42:16 WARN DAGScheduler: Broadcasting large task binary with size 1477.7 KiB\n",
      "23/12/01 14:43:23 WARN DAGScheduler: Broadcasting large task binary with size 1478.3 KiB\n",
      "23/12/01 14:43:23 WARN DAGScheduler: Broadcasting large task binary with size 1479.0 KiB\n",
      "23/12/01 14:43:23 WARN DAGScheduler: Broadcasting large task binary with size 1479.4 KiB\n",
      "23/12/01 14:43:23 WARN DAGScheduler: Broadcasting large task binary with size 1479.4 KiB\n",
      "23/12/01 14:43:24 WARN DAGScheduler: Broadcasting large task binary with size 1479.7 KiB\n",
      "23/12/01 14:43:24 WARN DAGScheduler: Broadcasting large task binary with size 1480.3 KiB\n",
      "23/12/01 14:43:24 WARN DAGScheduler: Broadcasting large task binary with size 1479.6 KiB\n",
      "23/12/01 14:43:25 WARN DAGScheduler: Broadcasting large task binary with size 1479.6 KiB\n",
      "23/12/01 14:43:25 WARN DAGScheduler: Broadcasting large task binary with size 1479.6 KiB\n",
      "23/12/01 14:43:25 WARN DAGScheduler: Broadcasting large task binary with size 1479.6 KiB\n",
      "23/12/01 14:43:25 WARN DAGScheduler: Broadcasting large task binary with size 1479.6 KiB\n",
      "23/12/01 14:43:25 WARN DAGScheduler: Broadcasting large task binary with size 1479.6 KiB\n",
      "23/12/01 14:43:26 WARN DAGScheduler: Broadcasting large task binary with size 1479.6 KiB\n",
      "23/12/01 14:43:26 WARN DAGScheduler: Broadcasting large task binary with size 1479.6 KiB\n",
      "23/12/01 14:43:26 WARN DAGScheduler: Broadcasting large task binary with size 1479.6 KiB\n",
      "23/12/01 14:43:26 WARN DAGScheduler: Broadcasting large task binary with size 1479.6 KiB\n",
      "23/12/01 14:43:26 WARN DAGScheduler: Broadcasting large task binary with size 1479.6 KiB\n",
      "23/12/01 14:43:26 WARN DAGScheduler: Broadcasting large task binary with size 1479.6 KiB\n",
      "23/12/01 14:43:27 WARN DAGScheduler: Broadcasting large task binary with size 1479.6 KiB\n",
      "23/12/01 14:43:27 WARN DAGScheduler: Broadcasting large task binary with size 1479.6 KiB\n",
      "23/12/01 14:43:27 WARN DAGScheduler: Broadcasting large task binary with size 1479.6 KiB\n",
      "23/12/01 14:43:27 WARN DAGScheduler: Broadcasting large task binary with size 1479.6 KiB\n",
      "23/12/01 14:43:27 WARN DAGScheduler: Broadcasting large task binary with size 1479.6 KiB\n",
      "23/12/01 14:43:27 WARN DAGScheduler: Broadcasting large task binary with size 1479.6 KiB\n",
      "23/12/01 14:43:27 WARN DAGScheduler: Broadcasting large task binary with size 1479.6 KiB\n",
      "23/12/01 14:43:28 WARN DAGScheduler: Broadcasting large task binary with size 1479.6 KiB\n",
      "23/12/01 14:43:28 WARN DAGScheduler: Broadcasting large task binary with size 1477.8 KiB\n",
      "23/12/01 14:43:58 WARN DAGScheduler: Broadcasting large task binary with size 1463.6 KiB\n",
      "23/12/01 14:43:58 WARN DAGScheduler: Broadcasting large task binary with size 1479.7 KiB\n",
      "23/12/01 14:44:28 WARN DAGScheduler: Broadcasting large task binary with size 1478.9 KiB\n",
      "23/12/01 14:44:59 WARN DAGScheduler: Broadcasting large task binary with size 1467.9 KiB\n"
     ]
    },
    {
     "name": "stdout",
     "output_type": "stream",
     "text": [
      "Silhouette Index for k=7: 0.8804601442980905\n"
     ]
    },
    {
     "name": "stderr",
     "output_type": "stream",
     "text": [
      "23/12/01 14:45:28 WARN DAGScheduler: Broadcasting large task binary with size 1460.4 KiB\n",
      "23/12/01 14:45:28 WARN DAGScheduler: Broadcasting large task binary with size 1477.7 KiB\n",
      "23/12/01 14:46:35 WARN DAGScheduler: Broadcasting large task binary with size 1478.3 KiB\n",
      "23/12/01 14:46:36 WARN DAGScheduler: Broadcasting large task binary with size 1479.0 KiB\n",
      "23/12/01 14:46:36 WARN DAGScheduler: Broadcasting large task binary with size 1479.4 KiB\n",
      "23/12/01 14:46:37 WARN DAGScheduler: Broadcasting large task binary with size 1479.4 KiB\n",
      "23/12/01 14:46:37 WARN DAGScheduler: Broadcasting large task binary with size 1479.7 KiB\n",
      "23/12/01 14:46:37 WARN DAGScheduler: Broadcasting large task binary with size 1480.3 KiB\n",
      "23/12/01 14:46:38 WARN DAGScheduler: Broadcasting large task binary with size 1479.6 KiB\n",
      "23/12/01 14:46:38 WARN DAGScheduler: Broadcasting large task binary with size 1479.6 KiB\n",
      "23/12/01 14:46:39 WARN DAGScheduler: Broadcasting large task binary with size 1479.6 KiB\n",
      "23/12/01 14:46:39 WARN DAGScheduler: Broadcasting large task binary with size 1479.6 KiB\n",
      "23/12/01 14:46:39 WARN DAGScheduler: Broadcasting large task binary with size 1479.6 KiB\n",
      "23/12/01 14:46:39 WARN DAGScheduler: Broadcasting large task binary with size 1479.6 KiB\n",
      "23/12/01 14:46:39 WARN DAGScheduler: Broadcasting large task binary with size 1479.6 KiB\n",
      "23/12/01 14:46:39 WARN DAGScheduler: Broadcasting large task binary with size 1479.6 KiB\n",
      "23/12/01 14:46:40 WARN DAGScheduler: Broadcasting large task binary with size 1479.6 KiB\n",
      "23/12/01 14:46:40 WARN DAGScheduler: Broadcasting large task binary with size 1479.6 KiB\n",
      "23/12/01 14:46:40 WARN DAGScheduler: Broadcasting large task binary with size 1479.6 KiB\n",
      "23/12/01 14:46:40 WARN DAGScheduler: Broadcasting large task binary with size 1479.6 KiB\n",
      "23/12/01 14:46:40 WARN DAGScheduler: Broadcasting large task binary with size 1479.6 KiB\n",
      "23/12/01 14:46:40 WARN DAGScheduler: Broadcasting large task binary with size 1479.6 KiB\n",
      "23/12/01 14:46:41 WARN DAGScheduler: Broadcasting large task binary with size 1479.6 KiB\n",
      "23/12/01 14:46:41 WARN DAGScheduler: Broadcasting large task binary with size 1479.6 KiB\n",
      "23/12/01 14:46:41 WARN DAGScheduler: Broadcasting large task binary with size 1479.6 KiB\n",
      "23/12/01 14:46:41 WARN DAGScheduler: Broadcasting large task binary with size 1479.6 KiB\n",
      "23/12/01 14:46:41 WARN DAGScheduler: Broadcasting large task binary with size 1479.6 KiB\n",
      "23/12/01 14:46:41 WARN DAGScheduler: Broadcasting large task binary with size 1479.6 KiB\n",
      "23/12/01 14:46:42 WARN DAGScheduler: Broadcasting large task binary with size 1477.8 KiB\n",
      "23/12/01 14:47:14 WARN DAGScheduler: Broadcasting large task binary with size 1463.7 KiB\n",
      "23/12/01 14:47:14 WARN DAGScheduler: Broadcasting large task binary with size 1479.8 KiB\n",
      "23/12/01 14:47:44 WARN DAGScheduler: Broadcasting large task binary with size 1478.9 KiB\n",
      "23/12/01 14:48:16 WARN DAGScheduler: Broadcasting large task binary with size 1467.9 KiB\n"
     ]
    },
    {
     "name": "stdout",
     "output_type": "stream",
     "text": [
      "Silhouette Index for k=8: 0.8604704055975566\n"
     ]
    },
    {
     "name": "stderr",
     "output_type": "stream",
     "text": [
      "23/12/01 14:48:46 WARN DAGScheduler: Broadcasting large task binary with size 1460.4 KiB\n",
      "23/12/01 14:48:46 WARN DAGScheduler: Broadcasting large task binary with size 1477.7 KiB\n",
      "23/12/01 14:49:53 WARN DAGScheduler: Broadcasting large task binary with size 1478.3 KiB\n",
      "23/12/01 14:49:54 WARN DAGScheduler: Broadcasting large task binary with size 1479.0 KiB\n",
      "23/12/01 14:55:30 WARN DAGScheduler: Broadcasting large task binary with size 1479.4 KiB\n",
      "23/12/01 14:55:30 WARN DAGScheduler: Broadcasting large task binary with size 1479.4 KiB\n",
      "23/12/01 14:55:30 WARN DAGScheduler: Broadcasting large task binary with size 1479.7 KiB\n",
      "23/12/01 14:55:31 WARN DAGScheduler: Broadcasting large task binary with size 1480.3 KiB\n",
      "23/12/01 14:55:32 WARN DAGScheduler: Broadcasting large task binary with size 1479.6 KiB\n",
      "23/12/01 14:55:32 WARN DAGScheduler: Broadcasting large task binary with size 1479.6 KiB\n",
      "23/12/01 14:55:32 WARN DAGScheduler: Broadcasting large task binary with size 1479.6 KiB\n",
      "23/12/01 14:55:32 WARN DAGScheduler: Broadcasting large task binary with size 1479.6 KiB\n",
      "23/12/01 14:55:33 WARN DAGScheduler: Broadcasting large task binary with size 1479.6 KiB\n",
      "23/12/01 14:55:33 WARN DAGScheduler: Broadcasting large task binary with size 1479.6 KiB\n",
      "23/12/01 14:55:33 WARN DAGScheduler: Broadcasting large task binary with size 1479.6 KiB\n",
      "23/12/01 14:55:33 WARN DAGScheduler: Broadcasting large task binary with size 1479.6 KiB\n",
      "23/12/01 14:55:33 WARN DAGScheduler: Broadcasting large task binary with size 1479.6 KiB\n",
      "23/12/01 14:55:33 WARN DAGScheduler: Broadcasting large task binary with size 1479.6 KiB\n",
      "23/12/01 14:55:33 WARN DAGScheduler: Broadcasting large task binary with size 1479.6 KiB\n",
      "23/12/01 14:55:34 WARN DAGScheduler: Broadcasting large task binary with size 1479.6 KiB\n",
      "23/12/01 14:55:34 WARN DAGScheduler: Broadcasting large task binary with size 1479.6 KiB\n",
      "23/12/01 14:55:34 WARN DAGScheduler: Broadcasting large task binary with size 1479.6 KiB\n",
      "23/12/01 14:55:34 WARN DAGScheduler: Broadcasting large task binary with size 1479.6 KiB\n",
      "23/12/01 14:55:34 WARN DAGScheduler: Broadcasting large task binary with size 1479.6 KiB\n",
      "23/12/01 14:55:34 WARN DAGScheduler: Broadcasting large task binary with size 1479.6 KiB\n",
      "23/12/01 14:55:34 WARN DAGScheduler: Broadcasting large task binary with size 1479.6 KiB\n",
      "23/12/01 14:55:34 WARN DAGScheduler: Broadcasting large task binary with size 1479.6 KiB\n",
      "23/12/01 14:55:34 WARN DAGScheduler: Broadcasting large task binary with size 1479.6 KiB\n",
      "23/12/01 14:55:35 WARN DAGScheduler: Broadcasting large task binary with size 1477.9 KiB\n",
      "23/12/01 14:56:03 WARN DAGScheduler: Broadcasting large task binary with size 1463.7 KiB\n",
      "23/12/01 14:56:03 WARN DAGScheduler: Broadcasting large task binary with size 1479.8 KiB\n",
      "23/12/01 14:56:29 WARN DAGScheduler: Broadcasting large task binary with size 1479.0 KiB\n",
      "23/12/01 14:56:58 WARN DAGScheduler: Broadcasting large task binary with size 1467.9 KiB\n"
     ]
    },
    {
     "name": "stdout",
     "output_type": "stream",
     "text": [
      "Silhouette Index for k=9: 0.8617569652030707\n"
     ]
    },
    {
     "name": "stderr",
     "output_type": "stream",
     "text": [
      "23/12/01 14:57:26 WARN DAGScheduler: Broadcasting large task binary with size 1460.4 KiB\n",
      "23/12/01 14:57:26 WARN DAGScheduler: Broadcasting large task binary with size 1477.7 KiB\n",
      "23/12/01 14:58:33 WARN DAGScheduler: Broadcasting large task binary with size 1478.3 KiB\n",
      "23/12/01 14:58:34 WARN DAGScheduler: Broadcasting large task binary with size 1479.0 KiB\n",
      "23/12/01 14:58:35 WARN DAGScheduler: Broadcasting large task binary with size 1479.4 KiB\n",
      "23/12/01 14:58:35 WARN DAGScheduler: Broadcasting large task binary with size 1479.4 KiB\n",
      "23/12/01 14:58:35 WARN DAGScheduler: Broadcasting large task binary with size 1479.7 KiB\n",
      "23/12/01 14:58:36 WARN DAGScheduler: Broadcasting large task binary with size 1480.3 KiB\n",
      "23/12/01 14:58:36 WARN DAGScheduler: Broadcasting large task binary with size 1479.6 KiB\n",
      "23/12/01 14:58:37 WARN DAGScheduler: Broadcasting large task binary with size 1479.6 KiB\n",
      "23/12/01 14:58:37 WARN DAGScheduler: Broadcasting large task binary with size 1479.6 KiB\n",
      "23/12/01 14:58:37 WARN DAGScheduler: Broadcasting large task binary with size 1479.6 KiB\n",
      "23/12/01 14:58:38 WARN DAGScheduler: Broadcasting large task binary with size 1479.6 KiB\n",
      "23/12/01 14:58:38 WARN DAGScheduler: Broadcasting large task binary with size 1479.6 KiB\n",
      "23/12/01 14:58:38 WARN DAGScheduler: Broadcasting large task binary with size 1479.6 KiB\n",
      "23/12/01 14:58:38 WARN DAGScheduler: Broadcasting large task binary with size 1479.6 KiB\n",
      "23/12/01 14:58:39 WARN DAGScheduler: Broadcasting large task binary with size 1479.6 KiB\n",
      "23/12/01 14:58:39 WARN DAGScheduler: Broadcasting large task binary with size 1479.6 KiB\n",
      "23/12/01 14:58:39 WARN DAGScheduler: Broadcasting large task binary with size 1479.6 KiB\n",
      "23/12/01 14:58:39 WARN DAGScheduler: Broadcasting large task binary with size 1479.6 KiB\n",
      "23/12/01 14:58:39 WARN DAGScheduler: Broadcasting large task binary with size 1479.6 KiB\n",
      "23/12/01 14:58:39 WARN DAGScheduler: Broadcasting large task binary with size 1479.6 KiB\n",
      "23/12/01 14:58:39 WARN DAGScheduler: Broadcasting large task binary with size 1479.6 KiB\n",
      "23/12/01 14:58:40 WARN DAGScheduler: Broadcasting large task binary with size 1479.6 KiB\n",
      "23/12/01 14:58:40 WARN DAGScheduler: Broadcasting large task binary with size 1479.6 KiB\n",
      "23/12/01 14:58:40 WARN DAGScheduler: Broadcasting large task binary with size 1479.6 KiB\n",
      "23/12/01 14:58:40 WARN DAGScheduler: Broadcasting large task binary with size 1479.6 KiB\n",
      "23/12/01 14:58:40 WARN DAGScheduler: Broadcasting large task binary with size 1479.6 KiB\n",
      "23/12/01 14:58:40 WARN DAGScheduler: Broadcasting large task binary with size 1477.9 KiB\n",
      "23/12/01 14:59:12 WARN DAGScheduler: Broadcasting large task binary with size 1463.7 KiB\n",
      "23/12/01 14:59:12 WARN DAGScheduler: Broadcasting large task binary with size 1479.8 KiB\n",
      "23/12/01 14:59:42 WARN DAGScheduler: Broadcasting large task binary with size 1479.0 KiB\n",
      "[Stage 884:==================================================>     (9 + 1) / 10]\r"
     ]
    },
    {
     "name": "stdout",
     "output_type": "stream",
     "text": [
      "Silhouette Index for k=10: 0.8611046732875876\n"
     ]
    },
    {
     "name": "stderr",
     "output_type": "stream",
     "text": [
      "\r",
      "                                                                                \r"
     ]
    }
   ],
   "source": [
    "from pyspark.ml.evaluation import ClusteringEvaluator\n",
    "k_values = [5,6,7,8,9,10]\n",
    "evaluator = ClusteringEvaluator()\n",
    "\n",
    "best_k = None\n",
    "best_silhouette = -1\n",
    "\n",
    "for val in k_values:\n",
    "    kmeans = KMeans(k=val, seed=42, featuresCol='scaled_features')\n",
    "    model = kmeans.fit(df)\n",
    "    silhouette = evaluator.evaluate(model.transform(df))\n",
    "    print(f\"Silhouette Index for k={val}: {silhouette}\")\n",
    "\n",
    "    if silhouette > best_silhouette:\n",
    "        best_k = k\n",
    "        best_silhouette = silhouette"
   ]
  },
  {
   "cell_type": "markdown",
   "metadata": {},
   "source": [
    "#### Making clusters using best K"
   ]
  },
  {
   "cell_type": "code",
   "execution_count": 181,
   "metadata": {},
   "outputs": [
    {
     "name": "stdout",
     "output_type": "stream",
     "text": [
      "Best k: 5 Best silhouette Score: 0.8873984244242376\n"
     ]
    }
   ],
   "source": [
    "print(f\"Best k: {best_k} Best silhouette Score: {best_silhouette}\")"
   ]
  },
  {
   "cell_type": "code",
   "execution_count": 182,
   "metadata": {},
   "outputs": [
    {
     "name": "stderr",
     "output_type": "stream",
     "text": [
      "23/12/01 15:00:42 WARN DAGScheduler: Broadcasting large task binary with size 1467.9 KiB\n",
      "23/12/01 15:01:09 WARN DAGScheduler: Broadcasting large task binary with size 1460.4 KiB\n",
      "23/12/01 15:01:09 WARN DAGScheduler: Broadcasting large task binary with size 1477.7 KiB\n",
      "23/12/01 15:02:15 WARN DAGScheduler: Broadcasting large task binary with size 1478.3 KiB\n",
      "23/12/01 15:02:16 WARN DAGScheduler: Broadcasting large task binary with size 1479.0 KiB\n",
      "23/12/01 15:02:16 WARN DAGScheduler: Broadcasting large task binary with size 1479.4 KiB\n",
      "23/12/01 15:02:16 WARN DAGScheduler: Broadcasting large task binary with size 1479.4 KiB\n",
      "23/12/01 15:02:17 WARN DAGScheduler: Broadcasting large task binary with size 1479.7 KiB\n",
      "23/12/01 15:02:17 WARN DAGScheduler: Broadcasting large task binary with size 1480.3 KiB\n",
      "23/12/01 15:02:18 WARN DAGScheduler: Broadcasting large task binary with size 1479.6 KiB\n",
      "23/12/01 15:02:18 WARN DAGScheduler: Broadcasting large task binary with size 1479.6 KiB\n",
      "23/12/01 15:02:19 WARN DAGScheduler: Broadcasting large task binary with size 1479.6 KiB\n",
      "23/12/01 15:02:19 WARN DAGScheduler: Broadcasting large task binary with size 1479.6 KiB\n",
      "23/12/01 15:02:19 WARN DAGScheduler: Broadcasting large task binary with size 1479.6 KiB\n",
      "23/12/01 15:02:19 WARN DAGScheduler: Broadcasting large task binary with size 1479.6 KiB\n",
      "23/12/01 15:02:20 WARN DAGScheduler: Broadcasting large task binary with size 1479.6 KiB\n",
      "23/12/01 15:02:20 WARN DAGScheduler: Broadcasting large task binary with size 1479.6 KiB\n",
      "23/12/01 15:02:20 WARN DAGScheduler: Broadcasting large task binary with size 1479.6 KiB\n",
      "23/12/01 15:02:20 WARN DAGScheduler: Broadcasting large task binary with size 1479.6 KiB\n",
      "23/12/01 15:02:20 WARN DAGScheduler: Broadcasting large task binary with size 1479.6 KiB\n",
      "23/12/01 15:02:20 WARN DAGScheduler: Broadcasting large task binary with size 1479.6 KiB\n",
      "23/12/01 15:02:21 WARN DAGScheduler: Broadcasting large task binary with size 1479.6 KiB\n",
      "23/12/01 15:02:21 WARN DAGScheduler: Broadcasting large task binary with size 1479.6 KiB\n",
      "23/12/01 15:02:21 WARN DAGScheduler: Broadcasting large task binary with size 1479.6 KiB\n",
      "23/12/01 15:02:21 WARN DAGScheduler: Broadcasting large task binary with size 1479.6 KiB\n",
      "23/12/01 15:02:21 WARN DAGScheduler: Broadcasting large task binary with size 1479.6 KiB\n",
      "23/12/01 15:02:21 WARN DAGScheduler: Broadcasting large task binary with size 1479.6 KiB\n",
      "23/12/01 15:02:21 WARN DAGScheduler: Broadcasting large task binary with size 1479.6 KiB\n",
      "23/12/01 15:02:22 WARN DAGScheduler: Broadcasting large task binary with size 1479.6 KiB\n",
      "23/12/01 15:02:22 WARN DAGScheduler: Broadcasting large task binary with size 1477.8 KiB\n",
      "23/12/01 15:02:56 WARN DAGScheduler: Broadcasting large task binary with size 1463.6 KiB\n",
      "                                                                                \r"
     ]
    }
   ],
   "source": [
    "kmeans = KMeans(k=best_k, seed=42, featuresCol='scaled_features', predictionCol='cluster')\n",
    "model = kmeans.fit(df)\n",
    "predicted_clusters_df =model.transform(df)"
   ]
  },
  {
   "cell_type": "code",
   "execution_count": 183,
   "metadata": {},
   "outputs": [
    {
     "name": "stdout",
     "output_type": "stream",
     "text": [
      "+---------------+--------------------+-------------+--------+--------------------+-------+\n",
      "|           c_ip|             cs_host|website_index|features|     scaled_features|cluster|\n",
      "+---------------+--------------------+-------------+--------+--------------------+-------+\n",
      "|  192.168.39.53|   www.dinamalar.com|        798.0| [798.0]|[0.2631589780203651]|      1|\n",
      "| 192.168.105.99|acvs.mediaonenetw...|       5549.0|[5549.0]|[1.8299112393922377]|      0|\n",
      "|192.168.114.169|          dl.free.fr|          1.0|   [1.0]|[3.29773155413991...|      1|\n",
      "| 192.168.54.105|       www.diino.com|        618.0| [618.0]|[0.20379981004584...|      1|\n",
      "| 192.168.105.99|           msn.co.nz|        450.0| [450.0]|[0.14839791993629...|      1|\n",
      "| 192.168.105.99|           msn.co.nz|        450.0| [450.0]|[0.14839791993629...|      1|\n",
      "| 192.168.105.99|           msn.co.nz|        450.0| [450.0]|[0.14839791993629...|      1|\n",
      "| 192.168.105.99|           msn.co.nz|        450.0| [450.0]|[0.14839791993629...|      1|\n",
      "| 192.168.105.99|           msn.co.nz|        450.0| [450.0]|[0.14839791993629...|      1|\n",
      "| 192.168.105.99|           msn.co.nz|        450.0| [450.0]|[0.14839791993629...|      1|\n",
      "| 192.168.105.99|           msn.co.nz|        450.0| [450.0]|[0.14839791993629...|      1|\n",
      "| 192.168.105.99|           msn.co.nz|        450.0| [450.0]|[0.14839791993629...|      1|\n",
      "| 192.168.105.99|           msn.co.nz|        450.0| [450.0]|[0.14839791993629...|      1|\n",
      "| 192.168.105.99|           msn.co.nz|        450.0| [450.0]|[0.14839791993629...|      1|\n",
      "| 192.168.105.99|           msn.co.nz|        450.0| [450.0]|[0.14839791993629...|      1|\n",
      "| 192.168.105.99|           msn.co.nz|        450.0| [450.0]|[0.14839791993629...|      1|\n",
      "|192.168.114.160|      85.179.222.201|       5457.0|[5457.0]|[1.7995721090941506]|      0|\n",
      "|  192.168.39.53|         64.27.74.18|       3845.0|[3845.0]|[1.2679777825667966]|      4|\n",
      "|  192.168.5.112|        192.168.5.26|         22.0|  [22.0]|[0.00725500941910...|      1|\n",
      "|  192.168.93.37|www.unite-student...|       6265.0|[6265.0]|[2.0660288186686557]|      0|\n",
      "+---------------+--------------------+-------------+--------+--------------------+-------+\n",
      "only showing top 20 rows\n",
      "\n"
     ]
    },
    {
     "name": "stderr",
     "output_type": "stream",
     "text": [
      "23/12/01 15:02:56 WARN DAGScheduler: Broadcasting large task binary with size 1462.6 KiB\n"
     ]
    }
   ],
   "source": [
    "predicted_clusters_df.show()"
   ]
  },
  {
   "cell_type": "markdown",
   "metadata": {},
   "source": [
    "**Task 5.** Write your conclusions and what lessons you learned from performing this project."
   ]
  },
  {
   "cell_type": "markdown",
   "metadata": {},
   "source": [
    "### Conclusion:\n",
    "\n",
    "Following are some parts of analysis that we did in our project above which based on handling large datasets using pyspark. \n",
    "\n",
    "- **Data Cleansing and Preprocessing:** Describe the steps taken for data cleansing and preprocessing. Summarize key findings from exploratory data analysis (EDA).\n",
    "- **Traffic Analysis:** Discuss the distribution of traffic over time.\n",
    "- **Top Access Metrics:** Provide insights into the most accessed websites, domains, types of requests, etc.\n",
    "- **Cluster Analysis Results:** Present the optimal number of clusters determined through silhouette analysis.\n",
    "\n",
    "### Lessons Learned:\n",
    "\n",
    "\n",
    "\n",
    "- **Data Quality and Cleaning:** Highlighted the importance of data quality and the impact on analysis. with the help of data cleaning stratigies like dopring null values, checking the data types concating different features in the data etc. \n",
    "- **Feature Engineering:** Reflect on the significance of feature engineering in creating meaningful variables.\n",
    "- **Clustering Techniques:** learning how to make a choice of clustering technique and the rationale behind it.Evaluate the effectiveness of silhouette analysis in determining the optimal number of clusters.\n",
    "- **Visualization and Communication:** Reflect on the effectiveness of data visualization in conveying insights.\n",
    "\n",
    "\n"
   ]
  },
  {
   "cell_type": "code",
   "execution_count": null,
   "metadata": {},
   "outputs": [],
   "source": []
  }
 ],
 "metadata": {
  "kernelspec": {
   "display_name": "Python 3 (ipykernel)",
   "language": "python",
   "name": "python3"
  },
  "language_info": {
   "codemirror_mode": {
    "name": "ipython",
    "version": 3
   },
   "file_extension": ".py",
   "mimetype": "text/x-python",
   "name": "python",
   "nbconvert_exporter": "python",
   "pygments_lexer": "ipython3",
   "version": "3.9.7"
  }
 },
 "nbformat": 4,
 "nbformat_minor": 4
}
